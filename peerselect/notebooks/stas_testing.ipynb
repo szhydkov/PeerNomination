{
 "cells": [
  {
   "cell_type": "code",
   "execution_count": 1,
   "metadata": {},
   "outputs": [],
   "source": [
    "import sys\n",
    "sys.path.insert(0, \"/home/szhydkov/Documents/mattei peer review/extedned_peer_selection/peerselect\")"
   ]
  },
  {
   "cell_type": "code",
   "execution_count": 2,
   "metadata": {},
   "outputs": [],
   "source": [
    "### Standard Magic and startup initializers.\n",
    "\n",
    "import math\n",
    "import csv\n",
    "import numpy as np\n",
    "import random\n",
    "import itertools\n",
    "import matplotlib\n",
    "import matplotlib.pyplot as plt\n",
    "import pandas as pd\n",
    "import scipy\n",
    "from collections import Counter\n",
    "\n",
    "from peerselect import impartial\n",
    "from peerselect import profile_generator\n",
    "\n",
    "%matplotlib inline\n",
    "matplotlib.style.use('seaborn-whitegrid')\n",
    "\n",
    "font = {'size'   : 14}\n",
    "\n",
    "matplotlib.rc('font', **font)\n",
    "np.set_printoptions(precision=3)\n",
    "np.set_printoptions(threshold=10)\n",
    "#np.set_printoptions(threshold=np.inf)"
   ]
  },
  {
   "cell_type": "code",
   "execution_count": 4,
   "metadata": {},
   "outputs": [
    {
     "data": {
      "text/plain": [
       "<PyCall.jlwrap estimate_eps>"
      ]
     },
     "execution_count": 4,
     "metadata": {},
     "output_type": "execute_result"
    }
   ],
   "source": [
    "# Allows to use Julia within Python\n",
    "# Steps if you want to make it work:\n",
    "# 1. Install Julia from https://julialang.org/downloads/\n",
    "# 2. Install pyjulia:\n",
    "#    $ python3 -m pip install julia\n",
    "# Takes a few seconds to run the first time\n",
    "import julia\n",
    "julia.Julia(compiled_modules=False)\n",
    "from julia import Main\n",
    "Main.include(\"funs.jl\")"
   ]
  },
  {
   "cell_type": "code",
   "execution_count": 6,
   "metadata": {},
   "outputs": [
    {
     "data": {
      "text/plain": [
       "-0.0015868684682767158"
      ]
     },
     "execution_count": 6,
     "metadata": {},
     "output_type": "execute_result"
    }
   ],
   "source": [
    "# Example usage of a function from funs.jl\n",
    "# estimate_eps(n, m, k) returns the epsilon that should give the right expected size.\n",
    "Main.estimate_eps(130, 10, 30)"
   ]
  },
  {
   "cell_type": "code",
   "execution_count": 5,
   "metadata": {
    "scrolled": true
   },
   "outputs": [
    {
     "name": "stdout",
     "output_type": "stream",
     "text": [
      "k = 15, actual average size = 15.64\n",
      "Finished: 120,15,8,5,0.0,50\n",
      "k = 15, actual average size = 15.46\n",
      "Finished: 120,15,9,5,0.0,50\n",
      "k = 15, actual average size = 15.2\n",
      "Finished: 120,15,10,5,0.0,50\n",
      "k = 15, actual average size = 15.16\n",
      "Finished: 120,15,11,5,0.0,50\n",
      "k = 20, actual average size = 20.8\n",
      "Finished: 120,20,8,5,0.0,50\n",
      "k = 20, actual average size = 20.06\n",
      "Finished: 120,20,9,5,0.0,50\n",
      "k = 20, actual average size = 20.32\n",
      "Finished: 120,20,10,5,0.0,50\n",
      "k = 20, actual average size = 20.24\n",
      "Finished: 120,20,11,5,0.0,50\n",
      "k = 25, actual average size = 25.44\n",
      "Finished: 120,25,8,5,0.0,50\n",
      "k = 25, actual average size = 24.94\n",
      "Finished: 120,25,9,5,0.0,50\n",
      "k = 25, actual average size = 25.0\n",
      "Finished: 120,25,10,5,0.0,50\n",
      "k = 25, actual average size = 25.5\n",
      "Finished: 120,25,11,5,0.0,50\n",
      "k = 30, actual average size = 30.34\n",
      "Finished: 120,30,8,5,0.0,50\n",
      "k = 30, actual average size = 29.94\n",
      "Finished: 120,30,9,5,0.0,50\n",
      "k = 30, actual average size = 30.16\n",
      "Finished: 120,30,10,5,0.0,50\n",
      "k = 30, actual average size = 30.4\n",
      "Finished: 120,30,11,5,0.0,50\n"
     ]
    }
   ],
   "source": [
    "_DEBUG = False\n",
    "\n",
    "#random.seed(15)\n",
    "\n",
    "class Impartial:\n",
    "    VANILLA = \"Vanilla\"\n",
    "    EXACT = \"ExactDollarPartition\"\n",
    "    PARTITION = \"Partition\"\n",
    "    DPR = \"DollarPartitionRaffle\"\n",
    "    CREDIABLE = \"CredibleSubset\"\n",
    "    RAFFLE = \"DollarRaffle\"\n",
    "    NOMINATION = \"PeerNomination\"\n",
    "    ALL = (VANILLA, EXACT, PARTITION, RAFFLE, CREDIABLE, DPR, NOMINATION)\n",
    "\n",
    "s = 50\n",
    "test_n = [120]\n",
    "test_k = [15, 20, 25, 30]\n",
    "test_m = [8,9,10,11]\n",
    "test_l = [5]\n",
    "test_p = [0.0]\n",
    "\n",
    "# Map for all Results.\n",
    "v_results = {}\n",
    "gt_results = {}\n",
    "pn_sizes = {}  #track output size of peer nomination\n",
    "for n,k,m,l,p in itertools.product(test_n, test_k, test_m, test_l, test_p):\n",
    "    agents = np.arange(0, n)\n",
    "    for c_sample in range(s):\n",
    "        # Generate a profile and clustering\n",
    "        profile = profile_generator.generate_mallows_mixture_profile(agents, agents, [1.0], [agents], [p])\n",
    "        clustering = impartial.even_partition_order(sorted(agents, key=lambda j: random.random()), l)\n",
    "        \n",
    "        # Uncomment one:\n",
    "        #TODO: check to see how many reviews each person is getting -- is it always off?\n",
    "        # Borda -- need to start at 1 to distinguish from non-review in the score matrix\n",
    "        scores = np.arange(m, 0, -1)\n",
    "#         print(scores)\n",
    "        #Lexicographic\n",
    "        #scores = [pow(n, i) for i in np.arange(m, 0, -1)]\n",
    "        \n",
    "        # Generate an m-regular assignment\n",
    "        m_assignment = profile_generator.generate_approx_m_regular_assignment(agents, m, clustering, randomize=False)\n",
    "#         print(m_assignment[1])\n",
    "        \n",
    "#         m_matrix = np.zeros((n,n))\n",
    "#         for i in agents:\n",
    "#             for j in m_assignment[i]:\n",
    "#                 m_matrix[i, j] = 1\n",
    "        \n",
    "#         print(len([x for x in m_matrix[1] if x!=0]))\n",
    "        score_matrix = profile_generator.strict_m_score_matrix(profile, m_assignment, scores)\n",
    "#         print([len([x for x in score_matrix[i,:].tolist() if x!=0]) for i in agents])\n",
    "#         print([len([x for x in score_matrix[:,i].tolist() if x!=0]) for i in agents])\n",
    "#         print(score_matrix[:,110].tolist())\n",
    "\n",
    "        #Compute Target Set.\n",
    "        target_set = impartial.vanilla(score_matrix, k)\n",
    "        \n",
    "        # Capture the winning sets\n",
    "        ws = {}\n",
    "        # Let everyone else have the same size set so they are all compareable.\n",
    "        vs = [i for i,j in target_set]\n",
    "        ws[Impartial.VANILLA] = vs\n",
    "        \n",
    "        # Set all sizes to be the same.\n",
    "        ws[Impartial.EXACT] = impartial.exact_dollar_partition_explicit(score_matrix, k, clustering, normalize=True)\n",
    "        ws[Impartial.PARTITION] = impartial.partition_explicit(score_matrix, k, clustering, normalize=False)\n",
    "        \n",
    "        ws[Impartial.CREDIABLE] = impartial.credible_subset(score_matrix, k, m, normalize=False)\n",
    "        ws[Impartial.DPR] = impartial.dollar_raffle_explicit(score_matrix, k, clustering, normalize=True)\n",
    "        #Call Raffle and have everyone in a cluster by themselves = Dollar.\n",
    "        ws[Impartial.RAFFLE] = impartial.dollar_raffle(score_matrix, k, n, randomize=True, normalize=True)\n",
    "        \n",
    "        # Run peer nomination using the estimated epsilon\n",
    "        ws[Impartial.NOMINATION] = impartial.peer_nomination_lottery(score_matrix, k, Main.estimate_eps(n, m, k))\n",
    "#         print(len(ws[Impartial.NOMINATION]))\n",
    "        \n",
    "        for x in Impartial.ALL:\n",
    "            key = (n, k, m, l, p, s, x)\n",
    "#             if x == Impartial.NOMINATION:\n",
    "#                 pn_sizes[key] = pn_sizes.get(key, []) + [len(set(ws[x]))]\n",
    "            v_results[key] = v_results.get(key, []) + [len(set(vs) & set(ws[x]))]\n",
    "            gt_results[key] = gt_results.get(key, []) + [len(set(np.arange(0, k)) & set(ws[x]))]\n",
    "            #if x == Impartial.VANILLA:\n",
    "            #    print(ws[x])\n",
    "            \n",
    "        key = (n, k, m, l, p)\n",
    "        pn_sizes[key] = pn_sizes.get(key, []) + [len(set(ws[x]))]\n",
    "        \n",
    "    print(\"k = \" + str(k) + \", actual average size = \" + str(np.mean(pn_sizes[key])))\n",
    "    print(\"Finished: \" + \",\".join([str(x) for x in [n, k, m, l, p, s]]))\n",
    "    \n",
    "v_df = pd.DataFrame(v_results)\n",
    "v_df.columns.names = ['n', 'k', 'm', 'l', 'p', 's', 'algo']\n",
    "\n",
    "gt_df = pd.DataFrame(gt_results)\n",
    "gt_df.columns.names = ['n', 'k', 'm', 'l', 'p', 's', 'algo']"
   ]
  },
  {
   "cell_type": "code",
   "execution_count": 9,
   "metadata": {
    "scrolled": false
   },
   "outputs": [
    {
     "name": "stdout",
     "output_type": "stream",
     "text": [
      "\t\tApproximate Vanilla Ordering\n",
      "\t\t MEAN:\n",
      "algo                Vanilla  ExactDollarPartition  Partition  PercentChange\n",
      "n   k  m  l p   s                                                          \n",
      "120 15 10 5 0.0 50    13.00                 11.56      11.34       1.940035\n",
      "    20 10 5 0.0 50    17.74                 16.14      15.94       1.254705\n",
      "    25 10 5 0.0 50    22.36                 20.94      20.48       2.246094\n",
      "    30 10 5 0.0 50    27.34                 25.84      25.46       1.492537\n",
      "\t\t STD:\n",
      "algo                 Vanilla  ExactDollarPartition  Partition  PercentChange\n",
      "n   k  m  l p   s                                                           \n",
      "120 15 10 5 0.0 50  0.947607              1.248019   1.238992       0.728535\n",
      "    20 10 5 0.0 50  1.006307              1.212351   1.235694      -1.888999\n",
      "    25 10 5 0.0 50  0.898070              1.202209   1.328495      -9.505930\n",
      "    30 10 5 0.0 50  0.917183              1.390346   1.593482     -12.747929\n",
      "\t\t MIN:\n",
      "algo                Vanilla  ExactDollarPartition  Partition  PercentChange\n",
      "n   k  m  l p   s                                                          \n",
      "120 15 10 5 0.0 50       11                     9          9       0.000000\n",
      "    20 10 5 0.0 50       15                    14         13       7.692308\n",
      "    25 10 5 0.0 50       21                    19         18       5.555556\n",
      "    30 10 5 0.0 50       25                    23         22       4.545455\n"
     ]
    },
    {
     "name": "stderr",
     "output_type": "stream",
     "text": [
      "/home/szhydkov/anaconda3/lib/python3.6/site-packages/ipykernel_launcher.py:26: DeprecationWarning: \n",
      ".ix is deprecated. Please use\n",
      ".loc for label based indexing or\n",
      ".iloc for positional indexing\n",
      "\n",
      "See the documentation here:\n",
      "http://pandas.pydata.org/pandas-docs/stable/indexing.html#ix-indexer-is-deprecated\n",
      "/home/szhydkov/anaconda3/lib/python3.6/site-packages/ipykernel_launcher.py:28: DeprecationWarning: \n",
      ".ix is deprecated. Please use\n",
      ".loc for label based indexing or\n",
      ".iloc for positional indexing\n",
      "\n",
      "See the documentation here:\n",
      "http://pandas.pydata.org/pandas-docs/stable/indexing.html#ix-indexer-is-deprecated\n"
     ]
    },
    {
     "data": {
      "image/png": "[encoded data removed]",
      "text/plain": [
       "<Figure size 1440x720 with 1 Axes>"
      ]
     },
     "metadata": {},
     "output_type": "display_data"
    }
   ],
   "source": [
    "#\n",
    "# Takes a slice of the array and generates the graphs etc.\n",
    "#\n",
    "def make_output(df, test, labels):\n",
    "    means = df.loc[:, test].mean().unstack()\n",
    "    errors = df.loc[:, test].std().unstack()\n",
    "    mins = df.loc[:, test].min().unstack()\n",
    "    # print(means)\n",
    "    # print(errors)\n",
    "\n",
    "    print(\"\\t\\tApproximate Vanilla Ordering\")\n",
    "    means = means[['Vanilla','ExactDollarPartition', \"PeerNomination\", 'Partition', 'DollarPartitionRaffle', 'DollarRaffle', 'CredibleSubset']]\n",
    "    errors = errors[['Vanilla','ExactDollarPartition', \"PeerNomination\", 'Partition', 'DollarPartitionRaffle', 'DollarRaffle', 'CredibleSubset']]\n",
    "    \n",
    "    means['PercentChange'] = (means.ExactDollarPartition - means.Partition) / means.Partition * 100.\n",
    "    errors['PercentChange'] = (errors.ExactDollarPartition - errors.Partition) / errors.Partition * 100.\n",
    "    mins['PercentChange'] = (mins.ExactDollarPartition - mins.Partition) / mins.Partition * 100.\n",
    "    print(\"\\t\\t MEAN:\\n\" + str(means[['Vanilla','ExactDollarPartition', 'Partition', 'PercentChange']]))\n",
    "    print(\"\\t\\t STD:\\n\" + str(errors[['Vanilla','ExactDollarPartition', 'Partition', 'PercentChange']]))\n",
    "    print(\"\\t\\t MIN:\\n\" + str(mins[['Vanilla','ExactDollarPartition', 'Partition', 'PercentChange']]))\n",
    "    del means['PercentChange']\n",
    "    del errors['PercentChange']\n",
    "    del mins['PercentChange']\n",
    "    \n",
    "    for index, row in means.iterrows():\n",
    "        means.ix[index] = row / float(index[1])\n",
    "    for index, row in errors.iterrows():\n",
    "        errors.ix[index] = row / float(index[1])\n",
    "    \n",
    "    # print(errors)\n",
    "    \n",
    "    #Set colors..\n",
    "    color_list = plt.cm.Paired(np.linspace(0, 1, 10))\n",
    "    color_list = color_list[:7]\n",
    "    #color_list = sns.color_palette(\"pastel\", 6)\n",
    "    means.plot(kind='bar', legend=False, yerr=errors.values.T, figsize=(20, 10), ylim=(0.0, 1.05), \\\n",
    "            color=color_list, error_kw={'ecolor':'Black', 'linewidth':2, 'capsize':4}, width=0.75)\n",
    "    plt.title(\"Strict Preference, Borda Scoring, Versus Ground Truth\")\n",
    "    plt.legend(bbox_to_anchor = (0,0.01,1,1), bbox_transform=plt.gcf().transFigure, loc='upper center', ncol=7, borderaxespad=0.)\n",
    "    plt.gca().set_xticklabels(labels)\n",
    "    plt.gca().set_xlabel(\"\")\n",
    "    plt.show()\n",
    "make_output(gt_df, (120,slice(None),10,5,0.0,50), test_k)"
   ]
  },
  {
   "cell_type": "code",
   "execution_count": null,
   "metadata": {},
   "outputs": [],
   "source": []
  }
 ],
 "metadata": {
  "@webio": {
   "lastCommId": null,
   "lastKernelId": null
  },
  "kernelspec": {
   "display_name": "Python 3",
   "language": "python",
   "name": "python3"
  },
  "language_info": {
   "codemirror_mode": {
    "name": "ipython",
    "version": 3
   },
   "file_extension": ".py",
   "mimetype": "text/x-python",
   "name": "python",
   "nbconvert_exporter": "python",
   "pygments_lexer": "ipython3",
   "version": "3.6.5"
  }
 },
 "nbformat": 4,
 "nbformat_minor": 2
}
